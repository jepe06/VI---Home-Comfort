{
 "cells": [
  {
   "cell_type": "markdown",
   "metadata": {},
   "source": [
    "## Home comfort"
   ]
  },
  {
   "cell_type": "code",
   "execution_count": 8,
   "metadata": {},
   "outputs": [],
   "source": [
    "import pandas as pd\n",
    "import json\n",
    "import matplotlib.pyplot as plt\n",
    "import math\n",
    "from datetime import datetime"
   ]
  },
  {
   "cell_type": "markdown",
   "metadata": {},
   "source": [
    "### Importing and separating the data into columns\n",
    "\n",
    "The information is all stored in a single column **'info'**, which needs to be \n",
    "\n"
   ]
  },
  {
   "cell_type": "code",
   "execution_count": 9,
   "metadata": {},
   "outputs": [
    {
     "name": "stdout",
     "output_type": "stream",
     "text": [
      "Processed and saved: 01-sgh0201e9248493.csv\n",
      "Processed and saved: 02-sgh02015d5c61cc.csv\n",
      "Processed and saved: 03-sgh0201a8c87da4.csv\n",
      "Processed and saved: 04-sgh020149c615c5.csv\n",
      "Processed and saved: 05-sgh020125bce03a.csv\n",
      "Processed and saved: 06-sgh02019d93db3f.csv\n",
      "Processed and saved: 07-sgh0201a17a7a16.csv\n",
      "Processed and saved: 08-sgh02018fe9be2c.csv\n",
      "Processed and saved: 09-sgh020177a7a91d.csv\n",
      "Processed and saved: 10-sgh0201f6cb55ed.csv\n",
      "Processed and saved: 11-sgh020102d29c86.csv\n",
      "Processed and saved: 12-sgh0201b9b7d045.csv\n",
      "Processed and saved: 13-sgh020114a6a800.csv\n"
     ]
    }
   ],
   "source": [
    "import os\n",
    "import pandas as pd\n",
    "import json\n",
    "\n",
    "# Define the source and target directories\n",
    "source_folder = \"/Users/joaop.cardoso/MestradoCD/VI/Projecto VI/dataset\"\n",
    "target_folder = \"/Users/joaop.cardoso/MestradoCD/VI/Projecto VI/VI---Home-Comfort/proc_dataset\"\n",
    "\n",
    "# List all CSV files in the source folder\n",
    "csv_files = [f for f in os.listdir(source_folder) if f.endswith('.csv')]\n",
    "\n",
    "# Loop through each file and apply the transformation\n",
    "for i, file_name in enumerate(csv_files, start=1):\n",
    "    # Load the CSV file\n",
    "    file_path = os.path.join(source_folder, file_name)\n",
    "    hc = pd.read_csv(file_path)\n",
    "    \n",
    "    # Process the 'date' and 'info' columns\n",
    "    hc['date'] = pd.to_datetime(hc['date'], errors='coerce').dt.strftime('%Y-%m-%d %H:%M:%S')\n",
    "    hc['info'] = hc['info'].apply(lambda x: json.loads(x) if pd.notnull(x) else {})\n",
    "    \n",
    "    # Expand the 'info' dictionary into separate columns\n",
    "    hc_expanded = pd.json_normalize(hc['info'])\n",
    "    hc_final = pd.concat([hc[['date']], hc_expanded], axis=1)\n",
    "    \n",
    "    # Define the new file name with an incremented prefix\n",
    "    new_file_name = f\"{str(i).zfill(2)}-{file_name}\"\n",
    "    new_file_path = os.path.join(target_folder, new_file_name)\n",
    "    \n",
    "    # Save the processed file\n",
    "    hc_final.to_csv(new_file_path, index=False)\n",
    "\n",
    "    print(f\"Processed and saved: {new_file_name}\")\n"
   ]
  },
  {
   "cell_type": "code",
   "execution_count": 6,
   "metadata": {},
   "outputs": [
    {
     "name": "stdout",
     "output_type": "stream",
     "text": [
      "Index(['date', 'info'], dtype='object')\n"
     ]
    },
    {
     "data": {
      "image/png": "[encoded data removed]",
      "text/plain": [
       "<Figure size 640x480 with 1 Axes>"
      ]
     },
     "metadata": {},
     "output_type": "display_data"
    }
   ],
   "source": [
    "fig, ax = plt.subplots()\n",
    "hc1_final['temperature'].hist(bins = 30, ax = ax)\n",
    "print(hc1.columns)\n",
    "ax.set(title = 'Distribution of temperatures', xlabel = 'Temperatures', ylabel = 'Frequency', xlim = (0, 40))\n",
    "\n",
    "plt.show()"
   ]
  },
  {
   "cell_type": "code",
   "execution_count": null,
   "metadata": {},
   "outputs": [],
   "source": [
    "\n",
    "#encoded_hc1 = pd.get_dummies(hc1, drop_first = True) # drop_first avoids multicollinearity (correlation btw dummy variables)\n",
    "\n",
    "#encoded_hc1.info()\n",
    "\n",
    "numeric_hc1 = hc1.select_dtypes(include = 'number')\n",
    "\n",
    "non_num_hc1 = hc1.select_dtypes(exclude = 'number')\n",
    "\n",
    "# Compute the correlation matrix for the variables in a single individual dataset\n",
    "corr_matrix = numeric_hc1.corr()"
   ]
  },
  {
   "cell_type": "code",
   "execution_count": null,
   "metadata": {},
   "outputs": [],
   "source": [
    "# Display the correlation matrix as as heatmap \n",
    "fig, ax = plt.subplots(figsize = (12,10))\n",
    "# Create the heatmap using the ax object (can't use ax)\n",
    "heatmap = ax.matshow(corr_matrix, cmap = 'coolwarm')\n",
    "\n",
    "# Create the colorbar\n",
    "fig.colorbar(heatmap)\n",
    "\n",
    "# Set the title and axis labels\n",
    "ax.set_title('Correlation Matrix', pad = 20)\n",
    "ax.set_xticks(range(len(corr_matrix.columns)))\n",
    "ax.set_yticks(range(len(corr_matrix.columns)))\n",
    "ax.set_xticklabels(corr_matrix.columns, rotation = 90)\n",
    "ax.set_yticklabels(corr_matrix.columns)"
   ]
  },
  {
   "cell_type": "code",
   "execution_count": null,
   "metadata": {},
   "outputs": [],
   "source": [
    "# Histograms for numerical variables\n",
    "\n",
    "num_vars = len(numeric_hc1.columns)\n",
    "num_cols = 5\n",
    "num_rows = math.ceil((num_vars / num_cols))\n",
    "\n",
    "fig, axes = plt.subplots(num_rows, num_cols, figsize = (16, num_rows * 4))\n",
    "fig.tight_layout(pad = 1)\n",
    "\n",
    "# Flatten the axes array for easy iteration\n",
    "axes = axes.flatten()\n",
    "\n",
    "# Plot a histogram for each variable\n",
    "for i, column, in enumerate(numeric_hc1.columns):\n",
    "    ax = axes[i]\n",
    "    hc1[column].hist(bins = 30, ax = ax)\n",
    "    ax.set_xlabel(column)\n",
    "    ax.set_ylabel('Frequency')\n",
    "\n",
    "#Hide any empty subplot if the number of variables is not a perfect grid\n",
    "for j in range(i + 1, len(axes)):\n",
    "    axes[j].set_visible(False)\n",
    "plt.show()"
   ]
  },
  {
   "cell_type": "code",
   "execution_count": null,
   "metadata": {},
   "outputs": [],
   "source": []
  }
 ],
 "metadata": {
  "kernelspec": {
   "display_name": "masters",
   "language": "python",
   "name": "python3"
  },
  "language_info": {
   "codemirror_mode": {
    "name": "ipython",
    "version": 3
   },
   "file_extension": ".py",
   "mimetype": "text/x-python",
   "name": "python",
   "nbconvert_exporter": "python",
   "pygments_lexer": "ipython3",
   "version": "3.12.2"
  }
 },
 "nbformat": 4,
 "nbformat_minor": 2
}
