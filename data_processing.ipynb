{
 "cells": [
  {
   "cell_type": "code",
   "execution_count": 2,
   "metadata": {},
   "outputs": [],
   "source": [
    "import pandas as pd\n",
    "import json\n",
    "\n",
    "# Load the original CSV file\n",
    "input_file = '/Users/joaop.cardoso/MestradoCD/VI/Projecto VI/VI---Home-Comfort/sgh020177a7a91d.csv'\n",
    "df = pd.read_csv(input_file)\n",
    "\n",
    "# Function to extract temperature and other values from the JSON info column\n",
    "def parse_info(info_str):\n",
    "    try:\n",
    "        # Parse JSON and extract fields\n",
    "        info = json.loads(info_str.replace('\"\"', '\"'))  # Handle the double quotes issue\n",
    "        return pd.Series({\n",
    "            'temperature': info.get('temperature'),\n",
    "            'illuminance': info.get('illuminance'),\n",
    "            'occupancy': info.get('occupancy'),\n",
    "            'humidity': info.get('humidity'),\n",
    "            'contact': info.get('contact'),\n",
    "            'feedback': info.get('feedback')\n",
    "\n",
    "        })\n",
    "    except json.JSONDecodeError:\n",
    "        return pd.Series({\n",
    "            'temperature': None,\n",
    "            'illuminance': None,\n",
    "            'linkquality': None,\n",
    "            'occupancy': None,\n",
    "            'humidity': None,\n",
    "            'contact': None,\n",
    "            'feedback': None\n",
    "        })\n",
    "\n",
    "# Apply the function to the info column and merge with the original dataframe\n",
    "parsed_info = df['info'].apply(parse_info)\n",
    "df = pd.concat([df[['date']], parsed_info], axis=1)\n",
    "\n",
    "# Drop rows with no temperature data, if desired\n",
    "df = df.dropna(subset=['temperature'])\n",
    "\n",
    "# Save the cleaned data to a new CSV\n",
    "output_file = '/Users/joaop.cardoso/MestradoCD/VI/Projecto VI/VI---Home-Comfort/processed_data.csv'\n",
    "df.to_csv(output_file, index=False)\n"
   ]
  }
 ],
 "metadata": {
  "kernelspec": {
   "display_name": "masters",
   "language": "python",
   "name": "python3"
  },
  "language_info": {
   "codemirror_mode": {
    "name": "ipython",
    "version": 3
   },
   "file_extension": ".py",
   "mimetype": "text/x-python",
   "name": "python",
   "nbconvert_exporter": "python",
   "pygments_lexer": "ipython3",
   "version": "3.12.7"
  }
 },
 "nbformat": 4,
 "nbformat_minor": 2
}
