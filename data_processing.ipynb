{
 "cells": [
  {
   "cell_type": "code",
   "execution_count": 3,
   "metadata": {},
   "outputs": [],
   "source": [
    "import pandas as pd\n",
    "import json\n",
    "import os"
   ]
  },
  {
   "cell_type": "code",
   "execution_count": null,
   "metadata": {},
   "outputs": [],
   "source": [
    "# Load the original CSV file\n",
    "input_file = '/Users/joaop.cardoso/MestradoCD/VI/Projecto VI/VI---Home-Comfort/sgh020177a7a91d.csv'\n",
    "df = pd.read_csv(input_file)\n",
    "\n",
    "# Function to extract temperature and other values from the JSON info column\n",
    "def parse_info(info_str):\n",
    "    try:\n",
    "        # Parse JSON and extract fields\n",
    "        info = json.loads(info_str.replace('\"\"', '\"'))  # Handle the double quotes issue\n",
    "        return pd.Series({\n",
    "            'temperature': info.get('temperature'),\n",
    "            'illuminance': info.get('illuminance'),\n",
    "            'occupancy': info.get('occupancy'),\n",
    "            'humidity': info.get('humidity'),\n",
    "            'contact': info.get('contact'),\n",
    "            'feedback': info.get('feedback')\n",
    "\n",
    "        })\n",
    "    except json.JSONDecodeError:\n",
    "        return pd.Series({\n",
    "            'temperature': None,\n",
    "            'illuminance': None,\n",
    "            'linkquality': None,\n",
    "            'occupancy': None,\n",
    "            'humidity': None,\n",
    "            'contact': None,\n",
    "            'feedback': None\n",
    "        })\n",
    "\n",
    "# Apply the function to the info column and merge with the original dataframe\n",
    "parsed_info = df['info'].apply(parse_info)\n",
    "df = pd.concat([df[['date']], parsed_info], axis=1)\n",
    "\n",
    "# Drop rows with no temperature data, if desired\n",
    "df = df.dropna(subset=['temperature'])\n",
    "\n",
    "# Save the cleaned data to a new CSV\n",
    "output_file = '/Users/joaop.cardoso/MestradoCD/VI/Projecto VI/VI---Home-Comfort/processed_data.csv'\n",
    "df.to_csv(output_file, index=False)\n"
   ]
  },
  {
   "cell_type": "code",
   "execution_count": 10,
   "metadata": {},
   "outputs": [
    {
     "name": "stderr",
     "output_type": "stream",
     "text": [
      "/var/folders/kl/mfb9z6_d1290hf_1b38hg6zr0000gn/T/ipykernel_96931/3037959817.py:10: DtypeWarning: Columns (3,4,18) have mixed types. Specify dtype option on import or set low_memory=False.\n",
      "  df = pd.read_csv(file_path)\n",
      "/var/folders/kl/mfb9z6_d1290hf_1b38hg6zr0000gn/T/ipykernel_96931/3037959817.py:10: DtypeWarning: Columns (3,4,13,16,17,18) have mixed types. Specify dtype option on import or set low_memory=False.\n",
      "  df = pd.read_csv(file_path)\n",
      "/var/folders/kl/mfb9z6_d1290hf_1b38hg6zr0000gn/T/ipykernel_96931/3037959817.py:10: DtypeWarning: Columns (1,2,3,4,15,17) have mixed types. Specify dtype option on import or set low_memory=False.\n",
      "  df = pd.read_csv(file_path)\n",
      "/var/folders/kl/mfb9z6_d1290hf_1b38hg6zr0000gn/T/ipykernel_96931/3037959817.py:10: DtypeWarning: Columns (4,8,10,11,17) have mixed types. Specify dtype option on import or set low_memory=False.\n",
      "  df = pd.read_csv(file_path)\n",
      "/var/folders/kl/mfb9z6_d1290hf_1b38hg6zr0000gn/T/ipykernel_96931/3037959817.py:10: DtypeWarning: Columns (6,7,13,16) have mixed types. Specify dtype option on import or set low_memory=False.\n",
      "  df = pd.read_csv(file_path)\n"
     ]
    }
   ],
   "source": [
    "# Folder containing CSV files\n",
    "folder_path = \"/Users/joaop.cardoso/MestradoCD/VI/Projecto VI/VI---Home-Comfort/proc_dataset/selected files\"\n",
    "\n",
    "# Loop through all CSV files in the folder\n",
    "for file_name in os.listdir(folder_path):\n",
    "    if file_name.endswith(\".csv\"):\n",
    "        file_path = os.path.join(folder_path, file_name)\n",
    "        \n",
    "        # Load the CSV file\n",
    "        df = pd.read_csv(file_path)\n",
    "        \n",
    "        # Convert 'date' column to datetime format\n",
    "        df['date'] = pd.to_datetime(df['date'], format='%Y-%m-%d %H:%M:%S')\n",
    "        \n",
    "        # Split the 'date' column into year, month, day, hour, minute, second\n",
    "        df['year'] = df['date'].dt.year\n",
    "        df['month'] = df['date'].dt.month\n",
    "        df['day'] = df['date'].dt.day\n",
    "        df['hour'] = df['date'].dt.hour\n",
    "        df['minute'] = df['date'].dt.minute\n",
    "        df['second'] = df['date'].dt.second\n",
    "        \n",
    "        # Drop the original 'date' column\n",
    "        df = df.drop(columns=['date'])\n",
    "        \n",
    "        # Reorder columns to place the new columns at the beginning\n",
    "        column_order = ['year', 'month', 'day', 'hour', 'minute', 'second'] + [col for col in df.columns if col not in ['year', 'month', 'day', 'hour', 'minute', 'second']]\n",
    "        df = df[column_order]\n",
    "        \n",
    "        # Save the transformed CSV\n",
    "        transformed_file_path = os.path.join(folder_path, f\"transformed_{file_name}\")\n",
    "        df.to_csv(transformed_file_path, index=False)\n"
   ]
  }
 ],
 "metadata": {
  "kernelspec": {
   "display_name": "masters",
   "language": "python",
   "name": "python3"
  },
  "language_info": {
   "codemirror_mode": {
    "name": "ipython",
    "version": 3
   },
   "file_extension": ".py",
   "mimetype": "text/x-python",
   "name": "python",
   "nbconvert_exporter": "python",
   "pygments_lexer": "ipython3",
   "version": "3.12.2"
  }
 },
 "nbformat": 4,
 "nbformat_minor": 2
}
